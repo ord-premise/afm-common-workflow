{
 "cells": [
  {
   "cell_type": "markdown",
   "id": "8c95e329",
   "metadata": {},
   "source": [
    "# Demonstration of the AiiDA common workflow for AFM simulations\n",
    "\n",
    "This notebook demonstrates the usage of the AiiDA common workflow for AFM simulations, specifically the implementation for the Quantum ESPRESSO (**QE v7.4**) code.\n",
    "\n",
    "The workflow leverages the Probe-Particle AFM (ppafm) code as the backend for AFM simulations.\n",
    "\n",
    "**Note: Requires a working installation of Quantum ESPRESSO v7.4 (see README.md for details)**"
   ]
  },
  {
   "cell_type": "markdown",
   "id": "927f8ebe",
   "metadata": {},
   "source": [
    "## Preliminary setup\n",
    "\n",
    "We first load the AiiDA profile (set up with `verdi presto` - see README.md for details)."
   ]
  },
  {
   "cell_type": "code",
   "execution_count": null,
   "id": "1f55fd89",
   "metadata": {},
   "outputs": [],
   "source": [
    "from aiida import load_profile, orm\n",
    "\n",
    "load_profile()"
   ]
  },
  {
   "cell_type": "markdown",
   "id": "2def0e36",
   "metadata": {},
   "source": [
    "## Inputs\n",
    "\n",
    "Here we set up the structure (molecule and tip), the Kpoints grid for SCF calculations, the pseudopotentials, and the codes and their resources."
   ]
  },
  {
   "cell_type": "code",
   "execution_count": null,
   "id": "85c0a2ea",
   "metadata": {},
   "outputs": [],
   "source": [
    "structure = orm.StructureData()\n",
    "structure.set_cell(\n",
    "    [\n",
    "        [14.9412827110, 0.0, 0.0],\n",
    "        [0.0, 14.5091262213, 0.0],\n",
    "        [0.0, 0.0, 10.0820001747],\n",
    "    ]\n",
    ")\n",
    "structure.set_pbc((False, False, False))\n",
    "structure.append_atom(symbols=\"C\", position=(8.2766055186, 6.1177492411, 5.0595246063))\n",
    "structure.append_atom(symbols=\"C\", position=(8.8582363932, 7.3839854920, 5.0363959612))\n",
    "structure.append_atom(symbols=\"C\", position=(8.0523006568, 8.5208073256, 5.0178902940))\n",
    "structure.append_atom(symbols=\"C\", position=(6.6646772714, 8.3913773689, 5.0224782237))\n",
    "structure.append_atom(symbols=\"C\", position=(6.0830463468, 7.1251409580, 5.0456056988))\n",
    "structure.append_atom(symbols=\"C\", position=(6.8889822232, 5.9883191444, 5.0641114560))\n",
    "structure.append_atom(symbols=\"H\", position=(8.9093056269, 5.2253257080, 5.0739448106))\n",
    "structure.append_atom(symbols=\"H\", position=(9.9475591624, 7.4856249613, 5.0328185108))\n",
    "structure.append_atom(symbols=\"H\", position=(8.5089059407, 9.5148483491, 4.9998780126))\n",
    "structure.append_atom(symbols=\"H\", position=(6.0319773431, 9.2838011020, 5.0080584394))\n",
    "structure.append_atom(symbols=\"H\", position=(4.9937235476, 7.0235011287, 5.0491811392))\n",
    "structure.append_atom(symbols=\"H\", position=(6.4323774593, 4.9942778709, 5.0821221574))\n",
    "\n",
    "tip = orm.StructureData()\n",
    "tip.set_cell(\n",
    "    [\n",
    "        [20.0, 0.0, 0.0],\n",
    "        [0.0, 20.0, 0.0],\n",
    "        [0.0, 0.0, 20.0],\n",
    "    ]\n",
    ")\n",
    "tip.set_pbc((False, False, False))\n",
    "tip.append_atom(symbols=\"C\", position=(0.0, 0.0, 1.15))\n",
    "tip.append_atom(symbols=\"O\", position=(0.0, 0.0, 0.0))\n",
    "\n",
    "kpoints = orm.KpointsData()\n",
    "kpoints.set_kpoints_mesh([1, 1, 1])\n",
    "\n",
    "pseudo_family = orm.load_group(\"SSSP/1.3/PBEsol/efficiency\")\n",
    "C_pp = pseudo_family.get_pseudo(\"C\")\n",
    "H_pp = pseudo_family.get_pseudo(\"H\")\n",
    "O_pp = pseudo_family.get_pseudo(\"O\")\n",
    "\n",
    "pw_code = orm.load_code(\"pw@localhost\")\n",
    "pp_code = orm.load_code(\"pp@localhost\")\n",
    "\n",
    "qe_options = {\n",
    "    \"resources\": {\n",
    "        \"num_machines\": 1,\n",
    "    },\n",
    "    \"max_wallclock_seconds\": 43200,\n",
    "}\n",
    "\n",
    "relax_engine = {\n",
    "    \"relax\": {\n",
    "        \"code\": pw_code,\n",
    "        \"options\": qe_options,\n",
    "    },\n",
    "}\n",
    "\n",
    "pp_engine = {\n",
    "    \"pp\": {\n",
    "        \"code\": pp_code,\n",
    "        \"options\": qe_options,\n",
    "    }\n",
    "}"
   ]
  },
  {
   "cell_type": "markdown",
   "id": "d627c92f",
   "metadata": {},
   "source": [
    "Next we set up the parameters for the `param.ini` file used by the ppafm code."
   ]
  },
  {
   "cell_type": "code",
   "execution_count": null,
   "id": "33c626df",
   "metadata": {},
   "outputs": [],
   "source": [
    "afm_params = {\n",
    "    \"PBC\": False,\n",
    "    \"tip\": \"s\",\n",
    "    \"klat\": 0.3490127886809,\n",
    "    \"krad\": 21.913190531846,\n",
    "    \"gridA\": [14.9412827110, 0.0000000000, 0.0000000000],\n",
    "    \"gridB\": [0.0000000000, 14.5091262213, 0.0000000000],\n",
    "    \"gridC\": [0.0000000000, 0.0000000000, 10.0820001747],\n",
    "    \"sigma\": 0.7,\n",
    "    \"charge\": 0.0,\n",
    "    \"r0Probe\": [0.0, 0.0, 2.97],\n",
    "    \"scanMax\": [14.9412827110, 14.5091262213, 11],\n",
    "    \"scanMin\": [0.0, 0.0, 8],\n",
    "    \"scanStep\": [0.1, 0.1, 0.1],\n",
    "    \"Amplitude\": 1.4,\n",
    "    \"probeType\": \"O\",\n",
    "    \"f0Cantilever\": 22352.5,\n",
    "    \"gridN\": [-1, -1, -1],\n",
    "}"
   ]
  },
  {
   "cell_type": "markdown",
   "id": "359cae6a",
   "metadata": {},
   "source": [
    "Next we set up the parameters for the SCF calculation."
   ]
  },
  {
   "cell_type": "code",
   "execution_count": null,
   "id": "cf33e88a",
   "metadata": {},
   "outputs": [],
   "source": [
    "dft_params = {\n",
    "    \"geom\": {\n",
    "        \"engines\": relax_engine,\n",
    "        \"protocol\": \"fast\",\n",
    "        \"relax_type\": \"positions\",\n",
    "    },\n",
    "    \"tip\": {\n",
    "        \"engines\": relax_engine,\n",
    "        \"protocol\": \"fast\",\n",
    "        \"relax_type\": \"none\",\n",
    "    },\n",
    "}"
   ]
  },
  {
   "cell_type": "markdown",
   "id": "9a65e2f8",
   "metadata": {},
   "source": [
    "And finally, we set up the parameters for the post-processing calculation."
   ]
  },
  {
   "cell_type": "code",
   "execution_count": null,
   "id": "2a7ffea1",
   "metadata": {},
   "outputs": [],
   "source": [
    "pp_params = {\n",
    "    \"hartree_potential\": {\n",
    "        \"engines\": pp_engine,\n",
    "        \"quantity\": \"potential\",\n",
    "    },\n",
    "    \"charge_density\": {\n",
    "        \"engines\": pp_engine,\n",
    "        \"quantity\": \"charge_density\",\n",
    "    },\n",
    "}\n"
   ]
  },
  {
   "cell_type": "markdown",
   "id": "0b95a16f",
   "metadata": {},
   "source": [
    "## Workflow\n",
    "\n",
    "We can now build our workflow, specifying the engine (Quantum ESPRESSO) and providing the inputs defined above.\n",
    "\n",
    "#### Note regarding the AFM case\n",
    "\n",
    "The `case` input refers to the type of AFM simulation to be performed. The available options are defined in the `AfmCase` enumeration.\n",
    "\n",
    "They include:\n",
    "\n",
    "1. `EMPIRICAL`: Empirical model for AFM simulations - requires only the structure of the molecule.\n",
    "2. `HARTREE`: Also leverages the Hartree potential, which is post-processed from a DFT (SCF) calculation.\n",
    "3. `HARTREE_RHO`: (experimental - future work) Also includes the charge densities of the molecule and tip, which are post-processed from DFT (SCF) calculations.\n",
    "\n",
    "You can try both 1 and 2. Though 3 is sketched out in the workflow, further testing is required for full support."
   ]
  },
  {
   "cell_type": "code",
   "execution_count": null,
   "id": "3b7823b7",
   "metadata": {},
   "outputs": [],
   "source": [
    "from aiida_common_workflows.workflows.afm import AfmCase, AfmWorkflow\n",
    "\n",
    "wg = AfmWorkflow.build(\n",
    "    engine=\"quantum_espresso\",\n",
    "    case=AfmCase.EMPIRICAL.name,\n",
    "    structure=structure,\n",
    "    afm_params=afm_params,\n",
    "    relax=False,\n",
    "    dft_params=dft_params,\n",
    "    pp_params=pp_params,\n",
    "    tip=tip,\n",
    ")"
   ]
  },
  {
   "cell_type": "markdown",
   "id": "a2d915a3",
   "metadata": {},
   "source": [
    "### Visualization\n",
    "\n",
    "Running the following cell will display the workflow graph, which illustrates the sequence of calculations and data flow within the workflow."
   ]
  },
  {
   "cell_type": "code",
   "execution_count": null,
   "id": "93b467ba",
   "metadata": {},
   "outputs": [],
   "source": [
    "wg"
   ]
  },
  {
   "cell_type": "markdown",
   "id": "9a21b300",
   "metadata": {},
   "source": [
    "### Execution\n",
    "\n",
    "Run the following cell to begin the calculation."
   ]
  },
  {
   "cell_type": "code",
   "execution_count": null,
   "id": "9baa60aa",
   "metadata": {},
   "outputs": [],
   "source": [
    "wg.run()"
   ]
  },
  {
   "cell_type": "markdown",
   "id": "66327e75",
   "metadata": {},
   "source": [
    "### Results\n",
    "\n",
    "The snippet below will plot the results of the AFM simulation, specifically the frequency shift (df) as a function of the tip-sample distance (z)."
   ]
  },
  {
   "cell_type": "code",
   "execution_count": null,
   "id": "238f1c3b",
   "metadata": {},
   "outputs": [],
   "source": [
    "import base64\n",
    "\n",
    "from IPython.display import HTML\n",
    "\n",
    "fd: orm.FolderData\n",
    "if wg.outputs.Q0_00K0_35.value:\n",
    "    fd = wg.outputs.Q0_00K0_35.value\n",
    "else:\n",
    "    node = orm.load_node(wg.pk)\n",
    "    fd = node.outputs.Q0_00K0_35\n",
    "\n",
    "imgs = []\n",
    "\n",
    "png_folder = \"Amp1.40\"\n",
    "\n",
    "for obj in fd.list_objects(png_folder):\n",
    "    if obj.name.endswith(\".png\"):\n",
    "        with fd.open(f\"{png_folder}/{obj.name}\", \"rb\") as handle:\n",
    "            data = handle.read()\n",
    "            data64 = base64.b64encode(data).decode(\"utf-8\")\n",
    "            imgs.append(f\"\"\"\n",
    "                <img\n",
    "                    src=\"data:image/png;base64,{data64}\"\n",
    "                    style=\"max-width:500px; margin:5px;\"\n",
    "                />\n",
    "            \"\"\")\n",
    "\n",
    "HTML(\"\".join(imgs))"
   ]
  },
  {
   "cell_type": "markdown",
   "id": "6e9072fd",
   "metadata": {},
   "source": [
    "## The provenance graph\n",
    "\n",
    "AiiDA provides a detailed provenance, recording inputs-process-outputs for each step of the workflow.\n",
    "\n",
    "Run the following cell to visualize the provenance graph.\n",
    "\n",
    "Note: you may need to zoom out and scroll around to see the full graph."
   ]
  },
  {
   "cell_type": "code",
   "execution_count": null,
   "id": "94b42617-4075-4153-a075-02ddbdb4b453",
   "metadata": {},
   "outputs": [],
   "source": [
    "wg.generate_provenance_graph()"
   ]
  }
 ],
 "metadata": {
  "kernelspec": {
   "display_name": "Python 3 (ipykernel)",
   "language": "python",
   "name": "python3"
  },
  "language_info": {
   "codemirror_mode": {
    "name": "ipython",
    "version": 3
   },
   "file_extension": ".py",
   "mimetype": "text/x-python",
   "name": "python",
   "nbconvert_exporter": "python",
   "pygments_lexer": "ipython3",
   "version": "3.11.13"
  }
 },
 "nbformat": 4,
 "nbformat_minor": 5
}
